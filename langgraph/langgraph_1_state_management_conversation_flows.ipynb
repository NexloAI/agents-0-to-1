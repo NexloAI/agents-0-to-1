{
 "cells": [
  {
   "cell_type": "markdown",
   "metadata": {
    "vscode": {
     "languageId": "raw"
    }
   },
   "source": [
    "\n",
    "# LangGraph Unit 1 Tutorial: State Management and Conversation Flows\n",
    "\n",
    "Crash-course notebook:  \n",
    "\n",
    "- Sets up LangGraph basics—TypedDict state, `add_messages` reducer, graph builder, entry/conditional edges.  \n",
    "- Walk-throughs:  \n",
    "  1. “Hello LangGraph” fixed 3-turn dialog.  \n",
    "  2. Typed LangChain messages (Human/AI/System).  \n",
    "  3. Counter graph that tracks turns.  \n",
    "  4. Dynamic echo bot with branching exit.  \n",
    "  5. Advanced pipeline: memory window, LLM summarizer, sentiment analyzer, sentiment-aware responder.  \n",
    "- Demos each graph, shows how to `invoke`, and visualizes with Mermaid/PNG.  \n",
    "- Ends with best-practice checklist (state design, node naming, exit guards, memory limits) plus next-steps links.\n",
    "\n",
    "## Key Features:\n",
    "- **State Management:** Maintain persistent state across interactions\n",
    "- **Flexible Routing:** Define complex flows between components\n",
    "- **Persistence:** Save and resume workflows\n",
    "- **Visualization:** See and understand your agent's structure\n",
    "\n",
    "## This tutorial covers:\n",
    "1. **State Management Basics** - Understanding TypedDict and state containers\n",
    "2. **Working with LangChain Messages** - Type-safe message handling\n",
    "3. **Building Your First Graph** - Graph structure and execution\n",
    "4. **Dynamic Conversation Flows** - Conditional routing and branching\n",
    "5. **Advanced Stateful Systems** - Memory management, sentiment analysis, and summaries\n"
   ]
  },
  {
   "cell_type": "markdown",
   "metadata": {
    "vscode": {
     "languageId": "raw"
    }
   },
   "source": [
    "## Setting Up Our Environment\n",
    "\n",
    "Before diving into the code, let's set up our development environment. We'll need the core LangGraph libraries and some additional dependencies.\n"
   ]
  },
  {
   "cell_type": "code",
   "execution_count": null,
   "metadata": {},
   "outputs": [],
   "source": [
    "# Install required packages\n",
    "%pip install langgraph langchain langchain-openai python-dotenv\n"
   ]
  },
  {
   "cell_type": "markdown",
   "metadata": {
    "vscode": {
     "languageId": "raw"
    }
   },
   "source": [
    "### Setting Up API Keys\n",
    "\n",
    "For the advanced examples, we'll need an OpenAI API key. If you haven't already, you can get one from [https://platform.openai.com/signup](https://platform.openai.com/signup).\n",
    "\n",
    "Let's load our environment variables:\n"
   ]
  },
  {
   "cell_type": "code",
   "execution_count": 23,
   "metadata": {},
   "outputs": [],
   "source": [
    "import os\n",
    "from dotenv import load_dotenv\n",
    "\n",
    "# Load environment variables from .env file (create this with your API key)\n",
    "load_dotenv()\n",
    "\n",
    "# Set OpenAI API key\n",
    "os.environ[\"OPENAI_API_KEY\"] = os.getenv('OPENAI_API_KEY')\n"
   ]
  },
  {
   "cell_type": "markdown",
   "metadata": {
    "vscode": {
     "languageId": "raw"
    }
   },
   "source": [
    "## Exercise 1: Understanding State Management - \"Hello LangGraph\"\n",
    "\n",
    "### 🎯 Objective\n",
    "Create a simple conversational graph that follows a fixed pattern:\n",
    "1. Start with \"Hello!\"\n",
    "2. Respond with \"How are you?\"\n",
    "3. End with \"Goodbye!\"\n",
    "\n",
    "### Key Concepts: State Management with TypedDict\n",
    "\n",
    "State management is the foundation of LangGraph. We use TypedDict to define a State type with a messages field, and the `Annotated` type with `add_messages` for proper message handling.\n",
    "\n",
    "**Why TypedDict?**\n",
    "- Provides type safety and IDE support\n",
    "- Clearly defines the structure of our state\n",
    "- Makes our code more maintainable and less error-prone\n",
    "\n",
    "**The add_messages Annotation:**\n",
    "The `add_messages` annotation is crucial - it tells LangGraph how to combine message lists when state updates occur. Without it, messages would be replaced rather than appended.\n"
   ]
  },
  {
   "cell_type": "code",
   "execution_count": 24,
   "metadata": {},
   "outputs": [],
   "source": [
    "from typing import Annotated, TypedDict\n",
    "from langchain_core.messages import BaseMessage, HumanMessage, AIMessage\n",
    "from langgraph.graph import StateGraph, START, END\n",
    "from langgraph.graph.message import add_messages\n",
    "\n",
    "class State(TypedDict):\n",
    "    \"\"\"\n",
    "    Defines the state structure for our conversation graph.\n",
    "    \n",
    "    Attributes:\n",
    "        messages: A list of messages in the conversation.\n",
    "                 Uses add_messages as a reducer to combine message lists.\n",
    "    \"\"\"\n",
    "    messages: Annotated[list[BaseMessage], add_messages]\n"
   ]
  },
  {
   "cell_type": "code",
   "execution_count": 25,
   "metadata": {},
   "outputs": [],
   "source": [
    "def llm_node(state: State) -> State:\n",
    "    \"\"\"\n",
    "    Processes the current state and returns the next message in the conversation.\n",
    "    \n",
    "    This node implements our fixed conversation flow:\n",
    "    1. Handle empty initial state -> \"Hello!\"\n",
    "    2. Process \"Hello!\" -> \"How are you?\"\n",
    "    3. Any other response -> \"Goodbye!\"\n",
    "    \n",
    "    Args:\n",
    "        state: Current conversation state containing the message history\n",
    "        \n",
    "    Returns:\n",
    "        Updated state with the next message added\n",
    "    \"\"\"\n",
    "    # Handle empty initial state\n",
    "    if not state[\"messages\"]:\n",
    "        return {\"messages\": [AIMessage(content=\"Hello!\")]}\n",
    "    \n",
    "    # Get the last message to determine next response\n",
    "    last_message = state[\"messages\"][-1]\n",
    "    \n",
    "    # Determine next response based on conversation flow\n",
    "    if isinstance(last_message, HumanMessage) and \"hello\" in last_message.content.lower():\n",
    "        return {\"messages\": [AIMessage(content=\"How are you?\")]}\n",
    "    elif len(state[\"messages\"]) < 3:  # If we haven't said goodbye yet\n",
    "        return {\"messages\": [AIMessage(content=\"How are you?\")]}\n",
    "    else:\n",
    "        return {\"messages\": [AIMessage(content=\"Goodbye!\")]}\n"
   ]
  },
  {
   "cell_type": "code",
   "execution_count": 26,
   "metadata": {},
   "outputs": [],
   "source": [
    "def should_end(state: State) -> bool:\n",
    "    \"\"\"\n",
    "    Determines if the conversation should end.\n",
    "    \n",
    "    The conversation ends when we've said \"Goodbye!\"\n",
    "    \n",
    "    Args:\n",
    "        state: Current conversation state\n",
    "        \n",
    "    Returns:\n",
    "        True if the conversation should end, False otherwise\n",
    "    \"\"\"\n",
    "    if not state[\"messages\"]:\n",
    "        return False\n",
    "    \n",
    "    last_message = state[\"messages\"][-1]\n",
    "    return (isinstance(last_message, AIMessage) and \n",
    "            \"goodbye\" in last_message.content.lower())\n"
   ]
  },
  {
   "cell_type": "code",
   "execution_count": 27,
   "metadata": {},
   "outputs": [],
   "source": [
    "# Initialize the graph\n",
    "graph_builder = StateGraph(State)\n",
    "\n",
    "# Add the node\n",
    "graph_builder.add_node(\"llm\", llm_node)\n",
    "\n",
    "# Set the entry point\n",
    "graph_builder.set_entry_point(\"llm\")\n",
    "\n",
    "# Add conditional edges\n",
    "# The graph will continue to \"llm\" or END based on should_end\n",
    "graph_builder.add_conditional_edges(\n",
    "    \"llm\",\n",
    "    should_end,\n",
    "    {\n",
    "        True: END,\n",
    "        False: \"llm\"\n",
    "    }\n",
    ")\n",
    "\n",
    "# Compile the graph\n",
    "hello_graph = graph_builder.compile()\n"
   ]
  },
  {
   "cell_type": "code",
   "execution_count": 28,
   "metadata": {},
   "outputs": [
    {
     "name": "stdout",
     "output_type": "stream",
     "text": [
      "Testing Hello LangGraph:\n",
      "----------------------------------------\n",
      "AIMessage: Hello!\n",
      "AIMessage: How are you?\n",
      "AIMessage: How are you?\n",
      "AIMessage: Goodbye!\n",
      "\n",
      "========================================\n",
      "\n",
      "HumanMessage: Hi there!\n",
      "AIMessage: How are you?\n",
      "AIMessage: How are you?\n",
      "AIMessage: Goodbye!\n"
     ]
    }
   ],
   "source": [
    "# Test the graph\n",
    "print(\"Testing Hello LangGraph:\")\n",
    "print(\"-\" * 40)\n",
    "\n",
    "# Start with empty messages\n",
    "result = hello_graph.invoke({\"messages\": []})\n",
    "for msg in result[\"messages\"]:\n",
    "    print(f\"{type(msg).__name__}: {msg.content}\")\n",
    "\n",
    "print(\"\\n\" + \"=\"*40 + \"\\n\")\n",
    "\n",
    "# Start with a greeting\n",
    "result = hello_graph.invoke({\"messages\": [HumanMessage(content=\"Hi there!\")]})\n",
    "for msg in result[\"messages\"]:\n",
    "    print(f\"{type(msg).__name__}: {msg.content}\")\n"
   ]
  },
  {
   "cell_type": "markdown",
   "metadata": {
    "vscode": {
     "languageId": "raw"
    }
   },
   "source": [
    "## Exercise 2: Working with LangChain Messages\n",
    "\n",
    "### Key Concepts: Message Types and Hierarchy\n",
    "\n",
    "LangChain provides a robust message hierarchy that ensures proper handling of different message sources:\n",
    "\n",
    "```\n",
    "BaseMessage\n",
    "├── HumanMessage     (User inputs)\n",
    "├── AIMessage        (Model responses)\n",
    "├── SystemMessage    (System instructions)\n",
    "└── FunctionMessage  (Function calls/returns)\n",
    "```\n",
    "\n",
    "### Benefits of Using Typed Messages:\n",
    "\n",
    "1. **Type Safety**: Can't accidentally add non-message objects to state\n",
    "2. **Role-Based Processing**: Easy to filter messages by type\n",
    "3. **Structured Data**: Consistent message format with metadata support\n",
    "4. **Chain/Agent Compatibility**: Seamless integration with LangChain ecosystem\n"
   ]
  },
  {
   "cell_type": "code",
   "execution_count": 29,
   "metadata": {},
   "outputs": [],
   "source": [
    "from langchain_core.messages import SystemMessage\n",
    "\n",
    "# Enhanced state container using LangChain's message types\n",
    "class TypedMessageState(TypedDict):\n",
    "    \"\"\"\n",
    "    Enhanced state container using LangChain's message types.\n",
    "    \n",
    "    This version of State enforces that all messages must be instances\n",
    "    of BaseMessage, providing several advantages:\n",
    "    \n",
    "    1. Role-based message handling (human vs AI vs system)\n",
    "    2. Structured message content\n",
    "    3. Metadata support\n",
    "    4. Chain/agent compatibility\n",
    "    \n",
    "    Note:\n",
    "        BaseMessage is abstract - you'll always use one of its concrete\n",
    "        subclasses like HumanMessage or AIMessage in practice.\n",
    "    \"\"\"\n",
    "    messages: list[BaseMessage]\n"
   ]
  },
  {
   "cell_type": "code",
   "execution_count": 30,
   "metadata": {},
   "outputs": [
    {
     "name": "stdout",
     "output_type": "stream",
     "text": [
      "Working with Typed Messages:\n",
      "----------------------------------------\n",
      "SystemMessage: You are a helpful assistant.\n",
      "HumanMessage: Hello! What can you do?\n",
      "AIMessage: I can help you with various tasks!\n",
      "\n",
      "========================================\n",
      "\n",
      "Human messages only: ['Hello! What can you do?']\n"
     ]
    }
   ],
   "source": [
    "# Working with typed messages\n",
    "print(\"Working with Typed Messages:\")\n",
    "print(\"-\" * 40)\n",
    "\n",
    "# Initialize state with typed message list\n",
    "state: TypedMessageState = {\"messages\": []}\n",
    "\n",
    "# Create different types of messages\n",
    "system_msg = SystemMessage(content=\"You are a helpful assistant.\")\n",
    "human_msg = HumanMessage(content=\"Hello! What can you do?\")\n",
    "ai_msg = AIMessage(content=\"I can help you with various tasks!\")\n",
    "\n",
    "# Add messages to state\n",
    "state[\"messages\"].extend([system_msg, human_msg, ai_msg])\n",
    "\n",
    "# Access message content and demonstrate type checking\n",
    "for msg in state[\"messages\"]:\n",
    "    print(f\"{type(msg).__name__}: {msg.content}\")\n",
    "\n",
    "print(\"\\n\" + \"=\"*40 + \"\\n\")\n",
    "\n",
    "# Example: Filter messages by type\n",
    "human_messages = [\n",
    "    msg for msg in state[\"messages\"] \n",
    "    if isinstance(msg, HumanMessage)\n",
    "]\n",
    "print(f\"Human messages only: {[m.content for m in human_messages]}\")\n"
   ]
  },
  {
   "cell_type": "markdown",
   "metadata": {
    "vscode": {
     "languageId": "raw"
    }
   },
   "source": [
    "## Exercise 3: Building Your First Graph\n",
    "\n",
    "Now let's build a more dynamic graph that demonstrates state management beyond just messages. We'll create a counter that tracks conversation turns.\n",
    "\n",
    "### Key Concepts:\n",
    "- **Extended State Fields**: State can track more than just messages\n",
    "- **Node Processing**: Nodes can update multiple state fields\n",
    "- **Conditional Routing**: Control flow based on state values\n"
   ]
  },
  {
   "cell_type": "code",
   "execution_count": 31,
   "metadata": {},
   "outputs": [],
   "source": [
    "class CounterState(TypedDict):\n",
    "    \"\"\"\n",
    "    State with both messages and a counter.\n",
    "    \n",
    "    This demonstrates how state can contain multiple fields\n",
    "    for tracking different aspects of the conversation.\n",
    "    \"\"\"\n",
    "    messages: Annotated[list[BaseMessage], add_messages]\n",
    "    counter: int\n",
    "\n",
    "def counter_node(state: CounterState) -> CounterState:\n",
    "    \"\"\"\n",
    "    Increments the counter and adds a message about the current turn.\n",
    "    \n",
    "    This node demonstrates:\n",
    "    1. Reading from state fields\n",
    "    2. Updating multiple fields\n",
    "    3. Creating dynamic responses based on state\n",
    "    \"\"\"\n",
    "    # Get current counter value (default to 0 if not set)\n",
    "    current_count = state.get(\"counter\", 0)\n",
    "    new_count = current_count + 1\n",
    "    \n",
    "    # Create a message about the current turn\n",
    "    message = AIMessage(content=f\"This is turn #{new_count}. What would you like to discuss?\")\n",
    "    \n",
    "    # Return updates to both fields\n",
    "    return {\n",
    "        \"messages\": [message],\n",
    "        \"counter\": new_count\n",
    "    }\n"
   ]
  },
  {
   "cell_type": "code",
   "execution_count": 32,
   "metadata": {},
   "outputs": [],
   "source": [
    "def should_continue(state: CounterState) -> bool:\n",
    "    \"\"\"\n",
    "    Determines if we should continue the conversation.\n",
    "    \n",
    "    Stops after 3 turns to demonstrate conditional routing.\n",
    "    \"\"\"\n",
    "    return state.get(\"counter\", 0) < 3\n",
    "\n",
    "# Build the counter graph\n",
    "counter_graph_builder = StateGraph(CounterState)\n",
    "\n",
    "# Add our counter node\n",
    "counter_graph_builder.add_node(\"counter_node\", counter_node)\n",
    "\n",
    "# Set entry point\n",
    "counter_graph_builder.set_entry_point(\"counter_node\")\n",
    "\n",
    "# Add conditional routing\n",
    "counter_graph_builder.add_conditional_edges(\n",
    "    \"counter_node\",\n",
    "    should_continue,\n",
    "    {\n",
    "        True: \"counter_node\",  # Continue counting\n",
    "        False: END        # Stop after 3 turns\n",
    "    }\n",
    ")\n",
    "\n",
    "# Compile the graph\n",
    "counter_graph = counter_graph_builder.compile()\n"
   ]
  },
  {
   "cell_type": "code",
   "execution_count": 33,
   "metadata": {},
   "outputs": [
    {
     "name": "stdout",
     "output_type": "stream",
     "text": [
      "Testing Counter Graph:\n",
      "----------------------------------------\n",
      "AIMessage: This is turn #1. What would you like to discuss?\n",
      "AIMessage: This is turn #2. What would you like to discuss?\n",
      "AIMessage: This is turn #3. What would you like to discuss?\n",
      "\n",
      "Final counter value: 3\n"
     ]
    }
   ],
   "source": [
    "# Test the counter graph\n",
    "print(\"Testing Counter Graph:\")\n",
    "print(\"-\" * 40)\n",
    "\n",
    "# Initialize with empty state\n",
    "initial_state = {\"messages\": [], \"counter\": 0}\n",
    "result = counter_graph.invoke(initial_state)\n",
    "\n",
    "# Display all messages\n",
    "for msg in result[\"messages\"]:\n",
    "    print(f\"{type(msg).__name__}: {msg.content}\")\n",
    "\n",
    "print(f\"\\nFinal counter value: {result['counter']}\")\n"
   ]
  },
  {
   "cell_type": "markdown",
   "metadata": {
    "vscode": {
     "languageId": "raw"
    }
   },
   "source": [
    "## Exercise 4: Creating Dynamic Conversation Flows\n",
    "\n",
    "Now we'll build a more interactive system that responds to user input and can branch based on what the user says.\n",
    "\n",
    "### Key Concepts:\n",
    "- **Dynamic Routing**: Make decisions based on message content\n",
    "- **User Interaction**: Respond to specific keywords or patterns\n",
    "- **Graceful Exit**: Allow users to end conversations naturally\n",
    "\n",
    "### Common Pitfalls to Avoid:\n",
    "1. Forgetting to check if messages exist before accessing them\n",
    "2. Not handling edge cases (empty messages, unexpected input)\n",
    "3. Creating infinite loops without proper exit conditions\n"
   ]
  },
  {
   "cell_type": "code",
   "execution_count": 34,
   "metadata": {},
   "outputs": [],
   "source": [
    "class DynamicState(TypedDict):\n",
    "    \"\"\"State for dynamic conversation flows.\"\"\"\n",
    "    messages: Annotated[list[BaseMessage], add_messages]\n",
    "\n",
    "def echo_node(state: DynamicState) -> DynamicState:\n",
    "    \"\"\"\n",
    "    Echo back the user's message with acknowledgment.\n",
    "    \n",
    "    This demonstrates:\n",
    "    1. Processing user input\n",
    "    2. Creating contextual responses\n",
    "    3. Maintaining conversation flow\n",
    "    \"\"\"\n",
    "    if not state[\"messages\"]:\n",
    "        return {\"messages\": [AIMessage(content=\"Hello! Say something and I'll echo it back. Say 'bye' to exit.\")]}\n",
    "    \n",
    "    # Get the last message\n",
    "    last_message = state[\"messages\"][-1]\n",
    "    \n",
    "    # Check if it's a human message\n",
    "    if isinstance(last_message, HumanMessage):\n",
    "        # Create echo response\n",
    "        response = f\"You said: '{last_message.content}'. What else would you like to say?\"\n",
    "        return {\"messages\": [AIMessage(content=response)]}\n",
    "    \n",
    "    # If not a human message, prompt for input\n",
    "    return {\"messages\": [AIMessage(content=\"Please say something!\")]}\n"
   ]
  },
  {
   "cell_type": "code",
   "execution_count": 35,
   "metadata": {},
   "outputs": [],
   "source": [
    "def check_for_exit(state: DynamicState) -> bool:\n",
    "    \"\"\"\n",
    "    Check if the user wants to exit the conversation.\n",
    "    \n",
    "    Returns True if we should end, False to continue.\n",
    "    \"\"\"\n",
    "    if not state[\"messages\"]:\n",
    "        return False\n",
    "    \n",
    "    # Check the last human message for exit keywords\n",
    "    for msg in reversed(state[\"messages\"]):\n",
    "        if isinstance(msg, HumanMessage):\n",
    "            content_lower = msg.content.lower()\n",
    "            if any(word in content_lower for word in [\"bye\", \"goodbye\", \"exit\", \"quit\"]):\n",
    "                return True\n",
    "            break  # Only check the most recent human message\n",
    "        \n",
    "        # last was AI → we're done for this turn\n",
    "        return True\n",
    "    \n",
    "    return False\n",
    "\n",
    "# Build the dynamic conversation graph\n",
    "dynamic_builder = StateGraph(DynamicState)\n",
    "\n",
    "# Add the echo node\n",
    "dynamic_builder.add_node(\"echo\", echo_node)\n",
    "\n",
    "# Set entry point\n",
    "dynamic_builder.set_entry_point(\"echo\")\n",
    "\n",
    "# Add conditional routing based on exit check\n",
    "dynamic_builder.add_conditional_edges(\n",
    "    \"echo\",\n",
    "    check_for_exit,\n",
    "    {\n",
    "        True: END,      # Exit if user says bye\n",
    "        False: \"echo\"   # Continue echoing\n",
    "    }\n",
    ")\n",
    "\n",
    "# Compile the graph\n",
    "dynamic_graph = dynamic_builder.compile()\n"
   ]
  },
  {
   "cell_type": "code",
   "execution_count": 36,
   "metadata": {},
   "outputs": [
    {
     "data": {
      "image/png": "[encoded data removed]",
      "text/plain": [
       "<IPython.core.display.Image object>"
      ]
     },
     "metadata": {},
     "output_type": "display_data"
    }
   ],
   "source": [
    "# PNG view ────────────────\n",
    "from langchain_core.runnables.graph import MermaidDrawMethod\n",
    "from IPython.display import Image, display\n",
    "\n",
    "display(\n",
    "    Image(\n",
    "        dynamic_graph.get_graph().draw_mermaid_png(          # swap in your graph\n",
    "            draw_method=MermaidDrawMethod.API               # LOCAL also works if graphviz installed\n",
    "        )\n",
    "    )\n",
    ")"
   ]
  },
  {
   "cell_type": "code",
   "execution_count": 37,
   "metadata": {},
   "outputs": [
    {
     "name": "stdout",
     "output_type": "stream",
     "text": [
      "Testing Dynamic Conversation Graph:\n",
      "----------------------------------------\n",
      "\n",
      "User: Hello there!\n",
      "Bot: You said: 'Hello there!'. What else would you like to say?\n",
      "\n",
      "User: This is cool\n",
      "Bot: You said: 'This is cool'. What else would you like to say?\n",
      "\n",
      "User: bye\n",
      "Bot: You said: 'bye'. What else would you like to say?\n"
     ]
    }
   ],
   "source": [
    "# Test the dynamic graph\n",
    "print(\"Testing Dynamic Conversation Graph:\")\n",
    "print(\"-\" * 40)\n",
    "\n",
    "# Test 1: Normal conversation\n",
    "messages = [\n",
    "    HumanMessage(content=\"Hello there!\"),\n",
    "    HumanMessage(content=\"This is cool\"),\n",
    "    HumanMessage(content=\"bye\")\n",
    "]\n",
    "\n",
    "for msg in messages:\n",
    "    print(f\"\\nUser: {msg.content}\")\n",
    "    result = dynamic_graph.invoke({\"messages\": [msg]})\n",
    "    print(f\"Bot: {result['messages'][-1].content}\")\n"
   ]
  },
  {
   "cell_type": "markdown",
   "metadata": {
    "vscode": {
     "languageId": "raw"
    }
   },
   "source": [
    "## Exercise 5: Building an Advanced Stateful Conversation System\n",
    "\n",
    "Now let's create a new system that combines everything we've learned with additional features:\n",
    "- **Memory Window Management**: Keep only recent messages to manage context\n",
    "- **Conversation Summarization**: Create summaries of the conversation\n",
    "- **Sentiment Analysis**: Analyze the emotional tone of the conversation\n",
    "\n",
    "### Advanced State Management Concepts:\n",
    "\n",
    "1. **Memory Windows**: Prevent unbounded growth of message history\n",
    "2. **Context Preservation**: Maintain important information even when pruning messages\n",
    "3. **Multi-Node Processing**: Chain multiple processing steps together\n",
    "4. **State Enrichment**: Add analytical insights to the conversation\n"
   ]
  },
  {
   "cell_type": "code",
   "execution_count": 38,
   "metadata": {},
   "outputs": [],
   "source": [
    "from langchain_openai import ChatOpenAI\n",
    "from langchain.prompts import PromptTemplate\n",
    "\n",
    "# Initialize LLM for advanced features\n",
    "llm = ChatOpenAI(model=\"gpt-4o-mini\", temperature=0)\n",
    "\n",
    "class AdvancedState(TypedDict):\n",
    "    \"\"\"\n",
    "    Advanced state container with multiple tracking fields.\n",
    "    \n",
    "    This implementation demonstrates:\n",
    "    1. Message history with proper LangGraph annotations\n",
    "    2. Conversation summaries for context retention\n",
    "    3. Sentiment tracking for emotional intelligence\n",
    "    4. Memory window control for efficient processing\n",
    "    \"\"\"\n",
    "    messages: Annotated[list[BaseMessage], add_messages]\n",
    "    summary: str\n",
    "    sentiment: str\n",
    "    window_size: int\n"
   ]
  },
  {
   "cell_type": "code",
   "execution_count": 39,
   "metadata": {},
   "outputs": [],
   "source": [
    "def manage_memory_window(state: AdvancedState) -> AdvancedState:\n",
    "    \"\"\"\n",
    "    Manage the message window to prevent unbounded growth.\n",
    "    \n",
    "    This is crucial for production systems to:\n",
    "    1. Control memory usage\n",
    "    2. Maintain relevant context\n",
    "    3. Improve processing speed\n",
    "    \"\"\"\n",
    "    window_size = state.get(\"window_size\", 5)\n",
    "    messages = state[\"messages\"]\n",
    "    \n",
    "    # Keep only the last N messages\n",
    "    if len(messages) > window_size:\n",
    "        # Always keep system messages plus the window\n",
    "        system_messages = [m for m in messages if isinstance(m, SystemMessage)]\n",
    "        recent_messages = messages[-window_size:]\n",
    "        \n",
    "        # Combine system messages with recent messages\n",
    "        pruned_messages = system_messages + recent_messages\n",
    "        \n",
    "        return {\"messages\": pruned_messages}\n",
    "    \n",
    "    return state\n"
   ]
  },
  {
   "cell_type": "code",
   "execution_count": 40,
   "metadata": {},
   "outputs": [],
   "source": [
    "def summarize_conversation(state: AdvancedState) -> AdvancedState:\n",
    "    \"\"\"\n",
    "    Create a summary of the conversation.\n",
    "    \n",
    "    This helps maintain context even when messages are pruned.\n",
    "    \"\"\"\n",
    "    # Get recent messages for summarization\n",
    "    window_size = state.get(\"window_size\", 5)\n",
    "    messages_to_summarize = state[\"messages\"][-window_size:]\n",
    "    \n",
    "    # Create text from messages\n",
    "    conversation_text = \"\\n\".join([\n",
    "        f\"{type(m).__name__}: {m.content}\" \n",
    "        for m in messages_to_summarize\n",
    "    ])\n",
    "    \n",
    "    # Create summary using LLM\n",
    "    prompt = PromptTemplate(\n",
    "        input_variables=[\"conversation\"],\n",
    "        template=\"Summarize this conversation in one concise sentence:\\n\\n{conversation}\\n\\nSummary:\"\n",
    "    )\n",
    "    \n",
    "    summary = llm.invoke(prompt.format(conversation=conversation_text)).content.strip()\n",
    "    \n",
    "    return {\"summary\": summary}\n"
   ]
  },
  {
   "cell_type": "code",
   "execution_count": 41,
   "metadata": {},
   "outputs": [],
   "source": [
    "def analyze_sentiment(state: AdvancedState) -> AdvancedState:\n",
    "    \"\"\"\n",
    "    Analyze the sentiment of the conversation.\n",
    "    \n",
    "    This enables sentiment-aware responses and better user experience.\n",
    "    \"\"\"\n",
    "    # Use the summary for sentiment analysis (more efficient)\n",
    "    text_to_analyze = state.get(\"summary\", \"\")\n",
    "    \n",
    "    if not text_to_analyze:\n",
    "        # Fallback to last message if no summary\n",
    "        if state[\"messages\"]:\n",
    "            text_to_analyze = state[\"messages\"][-1].content\n",
    "        else:\n",
    "            return {\"sentiment\": \"neutral\"}\n",
    "    \n",
    "    # Analyze sentiment using LLM\n",
    "    prompt = PromptTemplate(\n",
    "        input_variables=[\"text\"],\n",
    "        template=\"Analyze the sentiment of this text. Respond with only one word: positive, negative, or neutral.\\n\\nText: {text}\\n\\nSentiment:\"\n",
    "    )\n",
    "    \n",
    "    sentiment = llm.invoke(prompt.format(text=text_to_analyze)).content.strip().lower()\n",
    "    \n",
    "    # Ensure valid sentiment\n",
    "    if sentiment not in [\"positive\", \"negative\", \"neutral\"]:\n",
    "        sentiment = \"neutral\"\n",
    "    \n",
    "    return {\"sentiment\": sentiment}\n"
   ]
  },
  {
   "cell_type": "code",
   "execution_count": 42,
   "metadata": {},
   "outputs": [],
   "source": [
    "def respond_with_sentiment(state: AdvancedState) -> AdvancedState:\n",
    "    \"\"\"\n",
    "    Generate a response that takes sentiment into account.\n",
    "    \n",
    "    This creates more empathetic and contextually appropriate responses.\n",
    "    \"\"\"\n",
    "    sentiment = state.get(\"sentiment\", \"neutral\")\n",
    "    summary = state.get(\"summary\", \"No summary available\")\n",
    "    \n",
    "    # Create sentiment-aware response\n",
    "    if sentiment == \"positive\":\n",
    "        response = f\"I'm glad to hear things are going well! Based on our conversation: {summary}\"\n",
    "    elif sentiment == \"negative\":\n",
    "        response = f\"I understand this might be challenging. Let me help. Our discussion so far: {summary}\"\n",
    "    else:\n",
    "        response = f\"Thank you for sharing. Here's what we've discussed: {summary}\"\n",
    "    \n",
    "    return {\"messages\": [AIMessage(content=response)]}\n"
   ]
  },
  {
   "cell_type": "code",
   "execution_count": 43,
   "metadata": {},
   "outputs": [],
   "source": [
    "# Build the advanced conversation graph\n",
    "advanced_builder = StateGraph(AdvancedState)\n",
    "\n",
    "# Add all nodes\n",
    "advanced_builder.add_node(\"memory_manager\", manage_memory_window)\n",
    "advanced_builder.add_node(\"summarizer\", summarize_conversation)\n",
    "advanced_builder.add_node(\"sentiment_analyzer\", analyze_sentiment)\n",
    "advanced_builder.add_node(\"responder\", respond_with_sentiment)\n",
    "\n",
    "# Create the processing pipeline\n",
    "advanced_builder.set_entry_point(\"memory_manager\")\n",
    "advanced_builder.add_edge(\"memory_manager\", \"summarizer\")\n",
    "advanced_builder.add_edge(\"summarizer\", \"sentiment_analyzer\")\n",
    "advanced_builder.add_edge(\"sentiment_analyzer\", \"responder\")\n",
    "advanced_builder.add_edge(\"responder\", END)\n",
    "\n",
    "# Compile the graph\n",
    "advanced_graph = advanced_builder.compile()\n"
   ]
  },
  {
   "cell_type": "code",
   "execution_count": 44,
   "metadata": {},
   "outputs": [
    {
     "name": "stdout",
     "output_type": "stream",
     "text": [
      "Testing Advanced Stateful Conversation System:\n",
      "--------------------------------------------------\n",
      "Test 1: Positive Sentiment\n",
      "Summary: The human shares their excitement about a recent promotion at work, and the AI responds positively.\n",
      "Sentiment: positive\n",
      "Response: I'm glad to hear things are going well! Based on our conversation: The human shares their excitement about a recent promotion at work, and the AI responds positively.\n",
      "\n",
      "==================================================\n",
      "\n",
      "Test 2: Negative Sentiment\n",
      "Summary: The person is experiencing a difficult day with multiple issues, and the AI expresses sympathy.\n",
      "Sentiment: negative\n",
      "Response: I understand this might be challenging. Let me help. Our discussion so far: The person is experiencing a difficult day with multiple issues, and the AI expresses sympathy.\n"
     ]
    }
   ],
   "source": [
    "# Test the advanced system\n",
    "print(\"Testing Advanced Stateful Conversation System:\")\n",
    "print(\"-\" * 50)\n",
    "\n",
    "# Test with positive sentiment\n",
    "positive_state = {\n",
    "    \"messages\": [\n",
    "        HumanMessage(content=\"I just got promoted at work!\"),\n",
    "        AIMessage(content=\"That's wonderful news!\"),\n",
    "        HumanMessage(content=\"Yes, I'm really excited about the new opportunities.\")\n",
    "    ],\n",
    "    \"summary\": \"\",\n",
    "    \"sentiment\": \"\",\n",
    "    \"window_size\": 5\n",
    "}\n",
    "\n",
    "print(\"Test 1: Positive Sentiment\")\n",
    "result = advanced_graph.invoke(positive_state)\n",
    "print(f\"Summary: {result['summary']}\")\n",
    "print(f\"Sentiment: {result['sentiment']}\")\n",
    "print(f\"Response: {result['messages'][-1].content}\")\n",
    "\n",
    "print(\"\\n\" + \"=\"*50 + \"\\n\")\n",
    "\n",
    "# Test with negative sentiment\n",
    "negative_state = {\n",
    "    \"messages\": [\n",
    "        HumanMessage(content=\"I'm having a really tough day\"),\n",
    "        AIMessage(content=\"I'm sorry to hear that\"),\n",
    "        HumanMessage(content=\"Everything seems to be going wrong\")\n",
    "    ],\n",
    "    \"summary\": \"\",\n",
    "    \"sentiment\": \"\",\n",
    "    \"window_size\": 5\n",
    "}\n",
    "\n",
    "print(\"Test 2: Negative Sentiment\")\n",
    "result = advanced_graph.invoke(negative_state)\n",
    "print(f\"Summary: {result['summary']}\")\n",
    "print(f\"Sentiment: {result['sentiment']}\")\n",
    "print(f\"Response: {result['messages'][-1].content}\")\n"
   ]
  },
  {
   "cell_type": "markdown",
   "metadata": {
    "vscode": {
     "languageId": "raw"
    }
   },
   "source": [
    "## Visualizing Our Graphs\n",
    "\n",
    "One of the powerful features of LangGraph is the ability to visualize our workflows. Let's visualize the advanced graph we just created:\n"
   ]
  },
  {
   "cell_type": "code",
   "execution_count": 45,
   "metadata": {},
   "outputs": [
    {
     "data": {
      "image/png": "[encoded data removed]",
      "text/plain": [
       "<IPython.core.display.Image object>"
      ]
     },
     "metadata": {},
     "output_type": "display_data"
    }
   ],
   "source": [
    "from langchain_core.runnables.graph import MermaidDrawMethod\n",
    "from IPython.display import display, Image\n",
    "\n",
    "# Visualize the advanced graph\n",
    "try:\n",
    "    display(\n",
    "        Image(\n",
    "            advanced_graph.get_graph().draw_mermaid_png(\n",
    "                draw_method=MermaidDrawMethod.API,\n",
    "            )\n",
    "        )\n",
    "    )\n",
    "except Exception as e:\n",
    "    print(f\"Error generating visualization: {e}\")\n",
    "    print(\"\\nGraph structure:\")\n",
    "    print(\"memory_manager -> summarizer -> sentiment_analyzer -> responder -> END\")\n"
   ]
  },
  {
   "cell_type": "markdown",
   "metadata": {
    "vscode": {
     "languageId": "raw"
    }
   },
   "source": [
    "## Key Takeaways and Best Practices\n",
    "\n",
    "### 1. State Management Best Practices\n",
    "- **Always use TypedDict** for type safety and clear documentation\n",
    "- **Use Annotated with add_messages** for proper message handling\n",
    "- **Initialize all state fields** to avoid KeyError exceptions\n",
    "- **Preserve state fields** when updating - only update what changes\n",
    "\n",
    "### 2. Graph Design Principles\n",
    "- **Start simple** and add complexity incrementally\n",
    "- **Use meaningful node names** that describe their function\n",
    "- **Handle edge cases** (empty states, missing fields)\n",
    "- **Add proper exit conditions** to prevent infinite loops\n",
    "\n",
    "### 3. Message Handling\n",
    "- **Use typed messages** (HumanMessage, AIMessage, etc.) for clarity\n",
    "- **Filter messages by type** when processing specific roles\n",
    "- **Maintain message order** for conversation coherence\n",
    "- **Consider message windows** for production systems\n",
    "\n",
    "### 4. Advanced Features\n",
    "- **Memory management** prevents unbounded growth\n",
    "- **Summarization** preserves context when pruning\n",
    "- **Sentiment analysis** enables empathetic responses\n",
    "- **Multi-node pipelines** allow complex processing\n",
    "\n",
    "### 5. Common Pitfalls to Avoid\n",
    "- Forgetting to check if messages/fields exist\n",
    "- Not handling empty or invalid states\n",
    "- Creating circular dependencies in graphs\n",
    "- Ignoring memory constraints in production\n",
    "\n",
    "## Next Steps\n",
    "\n",
    "1. **Experiment with the code** - Modify the examples to suit your needs\n",
    "2. **Add persistence** - Save and restore conversation state\n",
    "3. **Integrate tools** - Add function calling and external APIs\n",
    "4. **Build production systems** - Add error handling and monitoring\n",
    "5. **Explore advanced patterns** - Parallel execution, sub-graphs, and more\n",
    "\n",
    "For more information, check out:\n",
    "- [LangGraph Documentation](https://langchain-ai.github.io/langgraph/)\n",
    "- [LangChain Documentation](https://python.langchain.com/)\n",
    "- [AI Product Engineer Tutorials](https://aiproduct.engineer/tutorials)\n"
   ]
  }
 ],
 "metadata": {
  "kernelspec": {
   "display_name": ".venv",
   "language": "python",
   "name": "python3"
  },
  "language_info": {
   "codemirror_mode": {
    "name": "ipython",
    "version": 3
   },
   "file_extension": ".py",
   "mimetype": "text/x-python",
   "name": "python",
   "nbconvert_exporter": "python",
   "pygments_lexer": "ipython3",
   "version": "3.13.3"
  }
 },
 "nbformat": 4,
 "nbformat_minor": 2
}
